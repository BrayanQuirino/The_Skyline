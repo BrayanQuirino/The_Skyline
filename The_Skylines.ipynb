{
 "cells": [
  {
   "cell_type": "markdown",
   "metadata": {},
   "source": [
    "# The Skyline"
   ]
  },
  {
   "cell_type": "code",
   "execution_count": 207,
   "metadata": {},
   "outputs": [],
   "source": [
    "#Importamos las librerias necesarias\n",
    "#Elaborado y diseñado por Brayan Quirino\n",
    "#18 de septiembre 2020\n",
    "import matplotlib.pyplot as plt\n",
    "import pylab\n",
    "import numpy as np\n",
    "from random import randrange"
   ]
  },
  {
   "cell_type": "code",
   "execution_count": 208,
   "metadata": {},
   "outputs": [],
   "source": [
    "build_number=5 #build_names # Numero de edificios\n",
    "rango=31 # tamaño de escala de los edificios\n",
    "edges=[]\n",
    "#edges variable para definir los bordes (paredes y techos)"
   ]
  },
  {
   "cell_type": "markdown",
   "metadata": {},
   "source": [
    "## Creamos edificios aleatorios de acuerdo a build_number"
   ]
  },
  {
   "cell_type": "code",
   "execution_count": 209,
   "metadata": {},
   "outputs": [],
   "source": [
    "edges=[];\n",
    "for i in range(build_number):\n",
    "    #build- variable que crea un nuevo edificio aleatorio\n",
    "    build = {\n",
    "      \"x1\": randrange(rango-5),\n",
    "      \"x2\": 0,\n",
    "      \"h\": randrange(5,rango),\n",
    "      \"name\": \"s\"\n",
    "    }\n",
    "    build[\"x2\"]=randrange(build[\"x1\"]+1,rango)\n",
    "    build[\"name\"]=build_names[i]\n",
    "    build[\"p1\"]=[build[\"x1\"],0]\n",
    "    build[\"p2\"]=[build[\"x2\"],0]\n",
    "    build[\"p3\"]=[build[\"x1\"],build[\"h\"]]\n",
    "    build[\"p4\"]=[build[\"x2\"],build[\"h\"]]\n",
    "    edges.append(build);"
   ]
  },
  {
   "cell_type": "markdown",
   "metadata": {},
   "source": [
    "## Obtenemos las esquinas superiores de los edificios\n",
    "\n",
    "* Obtenemos el par de cordenadas de los techos de los edificios (x1,y1) y (x2,y2)\n",
    "* Les colocamos 's' si son el principio del techo de izquierda a derecha.\n",
    "* Les colocamos 'e' si son el final del techo"
   ]
  },
  {
   "cell_type": "code",
   "execution_count": 210,
   "metadata": {},
   "outputs": [
    {
     "name": "stdout",
     "output_type": "stream",
     "text": [
      "[[1, 12, 's'], [7, 26, 's'], [9, 8, 's'], [10, 23, 's'], [11, 12, 'e'], [18, 26, 'e'], [21, 9, 's'], [21, 8, 'e'], [27, 23, 'e'], [29, 9, 'e']]\n"
     ]
    }
   ],
   "source": [
    "x1s=[]\n",
    "x2s=[]\n",
    "for i in edges:\n",
    "    x1s.append([i[\"x1\"],i[\"h\"],\"s\"])\n",
    "    x2s.append([i[\"x2\"],i[\"h\"],\"e\"])\n",
    "x1s.extend(x2s)\n",
    "x2s=sorted(x1s)\n",
    "aux=[]\n",
    "for i in range(len(x2s)):\n",
    "    for j in range(i+1,len(x2s)):\n",
    "        if(x2s[i][0]==x2s[j][0]):\n",
    "            if(x2s[i][1]<x2s[j][1]):\n",
    "                aux=x2s[i]\n",
    "                x2s[i]=x2s[j]\n",
    "                x2s[j]=aux\n",
    "print(x2s)\n",
    "#Ordenados en terminos de x, inicio y fin"
   ]
  },
  {
   "cell_type": "markdown",
   "metadata": {},
   "source": [
    "# Algoritmo Skylines que nos da los key points"
   ]
  },
  {
   "cell_type": "code",
   "execution_count": 211,
   "metadata": {},
   "outputs": [
    {
     "name": "stdout",
     "output_type": "stream",
     "text": [
      "[(1, 12), (7, 26), (18, 23), (27, 9), (29, 0)]\n"
     ]
    }
   ],
   "source": [
    "#Algoritmo de salida\n",
    "walls=[]\n",
    "walls.append(0)\n",
    "output=[]\n",
    "#print(walls)\n",
    "maxv=np.max(walls)\n",
    "for i in x2s:\n",
    "    if(maxv==0):\n",
    "        if(i[2]=='s'):\n",
    "            walls.append(i[1])\n",
    "            if(i[1]>maxv):\n",
    "                maxv=np.max(walls)\n",
    "                output.append((i[0],i[1]))\n",
    "    else:\n",
    "        if(i[2]=='s'):\n",
    "            walls.append(i[1])\n",
    "            if(i[1]>maxv):\n",
    "                maxv=np.max(walls)\n",
    "                output.append((i[0],i[1]))\n",
    "        else:\n",
    "            walls.remove(i[1])\n",
    "            aux=maxv\n",
    "            maxv=np.max(walls)\n",
    "            if(maxv!=aux):\n",
    "                output.append((i[0],maxv))\n",
    "print(output)"
   ]
  },
  {
   "cell_type": "markdown",
   "metadata": {},
   "source": [
    "## Obtenemos todos los puntos de la silueta en orden secuencial"
   ]
  },
  {
   "cell_type": "code",
   "execution_count": 212,
   "metadata": {},
   "outputs": [
    {
     "name": "stdout",
     "output_type": "stream",
     "text": [
      "[(1, 0), (1, 12), (7, 12), (7, 26), (18, 26), (18, 23), (27, 23), (27, 9), (29, 9), (29, 0)]\n"
     ]
    }
   ],
   "source": [
    "allpoints=[]\n",
    "allpoints.append((output[0][0],0))\n",
    "for i in range(0,len(output)-1):\n",
    "    allpoints.append(output[i])\n",
    "    allpoints.append((output[i+1][0],output[i][1]))\n",
    "allpoints.append(output[-1])\n",
    "print(allpoints)"
   ]
  },
  {
   "cell_type": "code",
   "execution_count": 213,
   "metadata": {},
   "outputs": [],
   "source": [
    "#Formateo de datos para poder graficar\n",
    "x=[]\n",
    "y=[]\n",
    "px=[]\n",
    "py=[]\n",
    "for i in output:\n",
    "    x.append(i[0])\n",
    "    y.append(i[1])\n",
    "for i in allpoints:\n",
    "    px.append(i[0])\n",
    "    py.append(i[1])"
   ]
  },
  {
   "cell_type": "code",
   "execution_count": 214,
   "metadata": {},
   "outputs": [],
   "source": [
    "import random\n",
    "import matplotlib.patches as patches\n",
    "from matplotlib.path import Path\n",
    "#Funcion para generar colores aleatorios\n",
    "def random_color():\n",
    "    import random\n",
    "    r = lambda: random.randint(0,255)\n",
    "    return('#%02X%02X%02X' % (r(),r(),r()))\n",
    "#Funcion que \"crea\" los edificios graficamente\n",
    "def make_4vertex(ax):\n",
    "    for i in edges:\n",
    "        verts=[\n",
    "                i[\"p1\"],\n",
    "                i[\"p2\"],\n",
    "                i[\"p4\"],\n",
    "                i[\"p3\"],\n",
    "                i[\"p1\"],\n",
    "        ]\n",
    "\n",
    "        codes = [\n",
    "            Path.MOVETO,\n",
    "            Path.LINETO,\n",
    "            Path.LINETO,\n",
    "            Path.LINETO,\n",
    "            Path.CLOSEPOLY,\n",
    "        ]\n",
    "\n",
    "        path = Path(verts, codes)\n",
    "        patch = patches.PathPatch(path, facecolor=random_color(), lw=2)\n",
    "        ax.add_patch(patch)"
   ]
  },
  {
   "cell_type": "code",
   "execution_count": 215,
   "metadata": {},
   "outputs": [
    {
     "data": {
      "image/png": "[encoded data removed]",
      "text/plain": [
       "<Figure size 864x216 with 3 Axes>"
      ]
     },
     "metadata": {
      "needs_background": "light"
     },
     "output_type": "display_data"
    }
   ],
   "source": [
    "import matplotlib.patches as patches\n",
    "fig, ax = plt.subplots(1, 3, figsize=(12, 3), sharey=True)\n",
    "make_4vertex(ax[0])\n",
    "#make_2vertex(p1,p2,ax[1])\n",
    "ax[0].set_xlim(0, 31)\n",
    "ax[0].set_ylim(0, 31)\n",
    "ax[2].set_xlim(0, 31)\n",
    "ax[2].set_ylim(0, 31)\n",
    "ax[2].scatter(x,y,color=\"red\")\n",
    "ax[1].set_xlim(0, 31)\n",
    "ax[1].set_ylim(0, 31)\n",
    "ax[1].plot(px,py, marker='o',color=\"black\")\n",
    "plt.show()"
   ]
  },
  {
   "cell_type": "code",
   "execution_count": 206,
   "metadata": {},
   "outputs": [
    {
     "name": "stdout",
     "output_type": "stream",
     "text": [
      "[(0, 6), (2, 28), (4, 6), (6, 26), (29, 0)]\n"
     ]
    }
   ],
   "source": [
    "print(output)"
   ]
  },
  {
   "cell_type": "code",
   "execution_count": null,
   "metadata": {},
   "outputs": [],
   "source": []
  }
 ],
 "metadata": {
  "kernelspec": {
   "display_name": "Python 3",
   "language": "python",
   "name": "python3"
  },
  "language_info": {
   "codemirror_mode": {
    "name": "ipython",
    "version": 3
   },
   "file_extension": ".py",
   "mimetype": "text/x-python",
   "name": "python",
   "nbconvert_exporter": "python",
   "pygments_lexer": "ipython3",
   "version": "3.8.3"
  }
 },
 "nbformat": 4,
 "nbformat_minor": 4
}
